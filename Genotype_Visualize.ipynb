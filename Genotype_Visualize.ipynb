{
 "cells": [
  {
   "cell_type": "code",
   "execution_count": 4,
   "metadata": {},
   "outputs": [],
   "source": [
    "from models.search.plot_genotype import Plotter\n",
    "import models.search.darts.utils as utils"
   ]
  },
  {
   "cell_type": "code",
   "execution_count": 7,
   "metadata": {},
   "outputs": [],
   "source": [
    "class Map(dict):\n",
    "    \"\"\"\n",
    "    Example:\n",
    "    m = Map({'first_name': 'Eduardo'}, last_name='Pool', age=24, sports=['Soccer'])\n",
    "    \"\"\"\n",
    "    def __init__(self, *args, **kwargs):\n",
    "        super(Map, self).__init__(*args, **kwargs)\n",
    "        for arg in args:\n",
    "            if isinstance(arg, dict):\n",
    "                for k, v in arg.items():\n",
    "                    self[k] = v\n",
    "\n",
    "        if kwargs:\n",
    "            for k, v in kwargs.items():\n",
    "                self[k] = v\n",
    "\n",
    "    def __getattr__(self, attr):\n",
    "        return self.get(attr)\n",
    "\n",
    "    def __setattr__(self, key, value):\n",
    "        self.__setitem__(key, value)\n",
    "\n",
    "    def __setitem__(self, key, value):\n",
    "        super(Map, self).__setitem__(key, value)\n",
    "        self.__dict__.update({key: value})\n",
    "\n",
    "    def __delattr__(self, item):\n",
    "        self.__delitem__(item)\n",
    "\n",
    "    def __delitem__(self, key):\n",
    "        super(Map, self).__delitem__(key)\n",
    "        del self.__dict__[key]"
   ]
  },
  {
   "cell_type": "code",
   "execution_count": 8,
   "metadata": {},
   "outputs": [],
   "source": [
    "args = {}\n",
    "\n",
    "args[\"multiplier\"] = 2\n",
    "args[\"num_input_nodes\"] = 10\n",
    "args[\"num_keep_edges\"] = 2\n",
    "\n",
    "args[\"node_steps\"] = 3\n",
    "args[\"node_multiplier\"] = 3\n",
    "\n",
    "args = Map(args)\n",
    "\n",
    "plotter = Plotter(args)"
   ]
  },
  {
   "cell_type": "code",
   "execution_count": 10,
   "metadata": {},
   "outputs": [],
   "source": [
    "best_genotype_path = \"final_exp/flira/search-EXP-20230304-143211/best/best_genotype.pkl\"\n",
    "genotype_list = utils.load_pickle(best_genotype_path)"
   ]
  },
  {
   "cell_type": "code",
   "execution_count": 11,
   "metadata": {},
   "outputs": [
    {
     "name": "stdout",
     "output_type": "stream",
     "text": [
      "[Genotype(edges=[('skip', 2), ('skip', 4), ('skip', 3), ('skip', 4)], steps=[StepGenotype(inner_edges=[('skip', 0), ('skip', 1), ('skip', 2), ('skip', 0), ('skip', 3), ('skip', 2)], inner_steps=['ConcatConv', 'ConcatConv', 'ConcatConv'], inner_concat=[2, 3, 4]), StepGenotype(inner_edges=[('skip', 0), ('skip', 1), ('skip', 2), ('skip', 0), ('skip', 3), ('skip', 1)], inner_steps=['ConcatConv', 'ConcatConv', 'ConcatConv'], inner_concat=[2, 3, 4])], concat=[10, 11]), Genotype(edges=[('skip', 2), ('skip', 4), ('skip', 1), ('skip', 4)], steps=[StepGenotype(inner_edges=[('skip', 0), ('skip', 1), ('skip', 0), ('skip', 1), ('skip', 0), ('skip', 1)], inner_steps=['ECAAttn', 'Sum', 'Sum'], inner_concat=[2, 3, 4]), StepGenotype(inner_edges=[('skip', 0), ('skip', 1), ('skip', 0), ('skip', 1), ('skip', 0), ('skip', 1)], inner_steps=['ECAAttn', 'Sum', 'Sum'], inner_concat=[2, 3, 4])], concat=[10, 11]), Genotype(edges=[('skip', 3), ('skip', 4), ('skip', 3), ('skip', 8)], steps=[StepGenotype(inner_edges=[('skip', 0), ('skip', 1), ('skip', 0), ('skip', 1), ('skip', 1), ('skip', 0)], inner_steps=['ECAAttn', 'Sum', 'Sum'], inner_concat=[2, 3, 4]), StepGenotype(inner_edges=[('skip', 0), ('skip', 1), ('skip', 2), ('skip', 1), ('skip', 0), ('skip', 1)], inner_steps=['ShuffleAttn', 'Sum', 'Sum'], inner_concat=[2, 3, 4])], concat=[10, 11]), Genotype(edges=[('skip', 4), ('skip', 9), ('skip', 3), ('skip', 8)], steps=[StepGenotype(inner_edges=[('skip', 0), ('skip', 1), ('skip', 2), ('skip', 0), ('skip', 0), ('skip', 1)], inner_steps=['ShuffleAttn', 'ECAAttn', 'Sum'], inner_concat=[2, 3, 4]), StepGenotype(inner_edges=[('skip', 0), ('skip', 1), ('skip', 0), ('skip', 1), ('skip', 1), ('skip', 0)], inner_steps=['ECAAttn', 'Sum', 'Sum'], inner_concat=[2, 3, 4])], concat=[10, 11]), Genotype(edges=[('skip', 6), ('skip', 8), ('skip', 1), ('skip', 6)], steps=[StepGenotype(inner_edges=[('skip', 0), ('skip', 1), ('skip', 0), ('skip', 2), ('skip', 1), ('skip', 3)], inner_steps=['Sum', 'Sum', 'ECAAttn'], inner_concat=[2, 3, 4]), StepGenotype(inner_edges=[('skip', 1), ('skip', 0), ('skip', 0), ('skip', 2), ('skip', 2), ('skip', 3)], inner_steps=['Sum', 'ShuffleAttn', 'ECAAttn'], inner_concat=[2, 3, 4])], concat=[10, 11])]\n"
     ]
    }
   ],
   "source": [
    "print(genotype_list)"
   ]
  },
  {
   "cell_type": "code",
   "execution_count": 12,
   "metadata": {},
   "outputs": [],
   "source": [
    "for i in range(len(genotype_list)):\n",
    "    file_name = \"best_epoch_3steps_level_\"+str(i)\n",
    "    plotter.plot(genotype_list[i], file_name, task='flira')"
   ]
  },
  {
   "cell_type": "code",
   "execution_count": 9,
   "metadata": {},
   "outputs": [
    {
     "data": {
      "text/plain": [
       "2"
      ]
     },
     "execution_count": 9,
     "metadata": {},
     "output_type": "execute_result"
    }
   ],
   "source": [
    "args.multiplier"
   ]
  },
  {
   "cell_type": "code",
   "execution_count": null,
   "metadata": {},
   "outputs": [],
   "source": []
  }
 ],
 "metadata": {
  "kernelspec": {
   "display_name": "Python (base)",
   "language": "python",
   "name": "base"
  },
  "language_info": {
   "codemirror_mode": {
    "name": "ipython",
    "version": 3
   },
   "file_extension": ".py",
   "mimetype": "text/x-python",
   "name": "python",
   "nbconvert_exporter": "python",
   "pygments_lexer": "ipython3",
   "version": "3.9.13"
  }
 },
 "nbformat": 4,
 "nbformat_minor": 2
}
